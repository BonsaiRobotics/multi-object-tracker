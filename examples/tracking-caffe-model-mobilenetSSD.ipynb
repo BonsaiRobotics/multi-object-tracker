{
 "cells": [
  {
   "cell_type": "code",
   "execution_count": 1,
   "metadata": {},
   "outputs": [],
   "source": [
    "from collections import OrderedDict\n",
    "import numpy as np\n",
    "from scipy.spatial import distance\n",
    "import cv2 as cv\n",
    "from motrackers.utils import select_caffemodel, select_videofile"
   ]
  },
  {
   "cell_type": "code",
   "execution_count": 2,
   "metadata": {},
   "outputs": [
    {
     "data": {
      "application/vnd.jupyter.widget-view+json": {
       "model_id": "e9fd1517a586497dba9442cbb6858687",
       "version_major": 2,
       "version_minor": 0
      },
      "text/plain": [
       "FileChooser(path='..', filename='', show_hidden='False')"
      ]
     },
     "metadata": {},
     "output_type": "display_data"
    },
    {
     "data": {
      "application/vnd.jupyter.widget-view+json": {
       "model_id": "56ed05d750d946bc9eb256f50be152c3",
       "version_major": 2,
       "version_minor": 0
      },
      "text/plain": [
       "FileChooser(path='..', filename='', show_hidden='False')"
      ]
     },
     "metadata": {},
     "output_type": "display_data"
    },
    {
     "data": {
      "application/vnd.jupyter.widget-view+json": {
       "model_id": "ff5eaa726a944cf1a0d352cb0aada949",
       "version_major": 2,
       "version_minor": 0
      },
      "text/plain": [
       "FileChooser(path='..', filename='', show_hidden='False')"
      ]
     },
     "metadata": {},
     "output_type": "display_data"
    }
   ],
   "source": [
    "video_file = select_videofile('..')\n",
    "prototxt, weights = select_caffemodel('..')\n",
    "display(video_file, prototxt, weights)"
   ]
  },
  {
   "cell_type": "code",
   "execution_count": 3,
   "metadata": {},
   "outputs": [],
   "source": [
    "video = video_file.selected"
   ]
  },
  {
   "cell_type": "code",
   "execution_count": 4,
   "metadata": {},
   "outputs": [],
   "source": [
    "model = {\"prototxt\": prototxt.selected,\n",
    "         \"weights\": weights.selected,\n",
    "         \"object_names\": {0: 'background', \n",
    "                          1: 'aeroplane', \n",
    "                          2: 'bicycle', \n",
    "                          3: 'bird',\n",
    "                          4: 'boat',\n",
    "                          5: 'bottle',\n",
    "                          6: 'bus', \n",
    "                          7: 'car', \n",
    "                          8: 'cat', \n",
    "                          9: 'chair',\n",
    "                          10: 'cow', \n",
    "                          11: 'diningtable', \n",
    "                          12: 'dog', \n",
    "                          13: 'horse',\n",
    "                          14: 'motorbike', \n",
    "                          15: 'person', \n",
    "                          16: 'pottedplant',\n",
    "                          17: 'sheep', \n",
    "                          18: 'sofa', \n",
    "                          19: 'train',\n",
    "                          20: 'tvmonitor'},\n",
    "         \"threshold\": 0.2,\n",
    "         \"confidence_threshold\": 0.2,\n",
    "         \"pixel_std\":1/127.5,\n",
    "         \"pixel_mean\": 127.5,\n",
    "         \"input_size\": (300, 300)\n",
    "        }\n",
    "\n",
    "max_object_lost_count = 5   # maximum number of object losts counted when the object is being tracked\n",
    "\n",
    "np.random.seed(12345)\n",
    "bbox_colors = {key: np.random.randint(0, 255, size=(3,)).tolist() for key in model['object_names'].keys()}"
   ]
  },
  {
   "cell_type": "code",
   "execution_count": 5,
   "metadata": {},
   "outputs": [],
   "source": [
    "class Tracker:\n",
    "    def __init__(self, maxLost = 30):\n",
    "        self.nextObjectID = 0                   # ID of next object\n",
    "        self.objects = OrderedDict()            # stores ID:Locations\n",
    "        self.lost = OrderedDict()               # stores ID:Lost_count\n",
    "        \n",
    "        self.maxLost = maxLost                  # maximum number of images object was not detected.\n",
    "        \n",
    "    def addObject(self, new_object_location):\n",
    "        \n",
    "        # store new object location\n",
    "        self.objects[self.nextObjectID] = new_object_location\n",
    "        \n",
    "        # initialize image counts for when new object is undetected\n",
    "        self.lost[self.nextObjectID] = 0\n",
    "        \n",
    "        self.nextObjectID += 1\n",
    "    \n",
    "    def removeObject(self, objectID):\n",
    "        # remove tracker data after object is lost\n",
    "        del self.objects[objectID]\n",
    "        del self.lost[objectID]\n",
    "    \n",
    "    @staticmethod\n",
    "    def getLocation(bounding_box):\n",
    "        xlt, ylt, xrb, yrb = bounding_box\n",
    "        return (int((xlt + xrb) / 2.0), int((ylt + yrb) / 2.0))\n",
    "    \n",
    "    def update(self,  detections):\n",
    "        \n",
    "        # if no object detected in the image\n",
    "        if len(detections) == 0:\n",
    "            lost_ids = list(self.lost.keys())\n",
    "            for objectID in lost_ids:\n",
    "                self.lost[objectID] +=1\n",
    "                if self.lost[objectID] > self.maxLost: self.removeObject(objectID)\n",
    "            \n",
    "            return self.objects\n",
    "        \n",
    "        # current object locations\n",
    "        new_object_locations = np.zeros((len(detections), 2), dtype=\"int\")\n",
    "        \n",
    "        for (i, detection) in enumerate(detections): new_object_locations[i] = self.getLocation(detection)\n",
    "            \n",
    "        if len(self.objects)==0:\n",
    "            for i in range(0, len(detections)): self.addObject(new_object_locations[i])\n",
    "        else:\n",
    "            objectIDs = list(self.objects.keys())\n",
    "            previous_object_locations = np.array(list(self.objects.values()))\n",
    "            \n",
    "            # pairwise distance between previous and current\n",
    "            D = distance.cdist(previous_object_locations, new_object_locations)\n",
    "            \n",
    "            # (minimum distance of previous from current).sort_as_per_index\n",
    "            row_idx = D.min(axis=1).argsort()\n",
    "            \n",
    "            # index of minimum distance of previous from current\n",
    "            cols_idx = D.argmin(axis=1)[row_idx]\n",
    "            \n",
    "            assignedRows, assignedCols = set(), set()\n",
    "            \n",
    "            for (row, col) in zip(row_idx, cols_idx):\n",
    "                \n",
    "                if row in assignedRows or col in assignedCols:\n",
    "                    continue\n",
    "                \n",
    "                objectID = objectIDs[row]\n",
    "                self.objects[objectID] = new_object_locations[col]\n",
    "                self.lost[objectID] = 0\n",
    "                \n",
    "                assignedRows.add(row)\n",
    "                assignedCols.add(col)\n",
    "                \n",
    "            unassignedRows = set(range(0, D.shape[0])).difference(assignedRows)\n",
    "            unassignedCols = set(range(0, D.shape[1])).difference(assignedCols)\n",
    "            \n",
    "            \n",
    "            if D.shape[0]>=D.shape[1]:\n",
    "                for row in unassignedRows:\n",
    "                    objectID = objectIDs[row]\n",
    "                    self.lost[objectID] += 1\n",
    "                    \n",
    "                    if self.lost[objectID] > self.maxLost:\n",
    "                        self.removeObject(objectID)\n",
    "                        \n",
    "            else:\n",
    "                for col in unassignedCols:\n",
    "                    self.addObject(new_object_locations[col])\n",
    "            \n",
    "        return self.objects\n"
   ]
  },
  {
   "cell_type": "code",
   "execution_count": 7,
   "metadata": {},
   "outputs": [],
   "source": [
    "cap = cv.VideoCapture(video)\n",
    "net = cv.dnn.readNetFromCaffe(model[\"prototxt\"], model[\"weights\"])\n",
    "tracker = Tracker(maxLost=max_object_lost_count)"
   ]
  },
  {
   "cell_type": "code",
   "execution_count": 9,
   "metadata": {
    "scrolled": false
   },
   "outputs": [
    {
     "name": "stdout",
     "output_type": "stream",
     "text": [
      "Cannot read the video feed.\n"
     ]
    }
   ],
   "source": [
    "(H, W) = (None, None)\n",
    "writer = None\n",
    "\n",
    "while True:\n",
    "    ok, image = cap.read()\n",
    "    \n",
    "    if not ok:\n",
    "        print(\"Cannot read the video feed.\")\n",
    "        break\n",
    "    \n",
    "    if W is None or H is None: \n",
    "        (H, W) = image.shape[:2]\n",
    "    \n",
    "    image_resized = cv.resize(image, model[\"input_size\"])\n",
    "\n",
    "    blob = cv.dnn.blobFromImage(image_resized, \n",
    "                                 model[\"pixel_std\"], \n",
    "                                 model[\"input_size\"], \n",
    "                                 (model[\"pixel_mean\"], model[\"pixel_mean\"], model[\"pixel_mean\"]), \n",
    "                                 False)\n",
    "\n",
    "    net.setInput(blob)\n",
    "    detections = net.forward()\n",
    "\n",
    "    rows = image_resized.shape[0]\n",
    "    cols = image_resized.shape[1]\n",
    "    \n",
    "    boxes, confidences, classIDs, detections_bbox = [], [], [], []\n",
    "\n",
    "    for i in range(detections.shape[2]):\n",
    "        confidence = detections[0, 0, i, 2]\n",
    "        if confidence > model['confidence_threshold']:\n",
    "            class_id = int(detections[0, 0, i, 1])\n",
    "\n",
    "            # object location \n",
    "            left = int(detections[0, 0, i, 3] * cols) \n",
    "            top = int(detections[0, 0, i, 4] * rows)\n",
    "            right = int(detections[0, 0, i, 5] * cols)\n",
    "            bottom = int(detections[0, 0, i, 6] * rows)\n",
    "            \n",
    "            # scaling factor of image\n",
    "            height_factor = image.shape[0]/float(model[\"input_size\"][0])\n",
    "            width_factor = image.shape[1]/float(model[\"input_size\"][1])\n",
    "            \n",
    "            # scale object detection bounding box to original image\n",
    "            left = int(width_factor * left) \n",
    "            top = int(height_factor * top)\n",
    "            right = int(width_factor * right)\n",
    "            bottom = int(height_factor * bottom)\n",
    "            \n",
    "            width, height = right - left, bottom-top\n",
    "            \n",
    "            boxes.append([left, top, width, height])\n",
    "            confidences.append(float(confidence))\n",
    "            classIDs.append(int(class_id))\n",
    "        \n",
    "    indices = cv.dnn.NMSBoxes(boxes, confidences, model[\"confidence_threshold\"], model[\"threshold\"])\n",
    "    \n",
    "    if len(indices)>0:\n",
    "        for i in indices.flatten():\n",
    "            x, y, w, h = boxes[i][0], boxes[i][1], boxes[i][2], boxes[i][3]\n",
    "            \n",
    "            detections_bbox.append((x, y, x+w, y+h))\n",
    "            \n",
    "            clr = [int(c) for c in bbox_colors[classIDs[i]]]\n",
    "            cv.rectangle(image, (x, y), (x+w, y+h), clr, 2)\n",
    "            \n",
    "            label = \"{}:{:.4f}\".format(model[\"object_names\"][classIDs[i]], confidences[i])\n",
    "            (label_width, label_height), baseLine = cv.getTextSize(label, cv.FONT_HERSHEY_SIMPLEX, 0.5, 2)\n",
    "            y_label = max(y, label_height)\n",
    "            cv.rectangle(image, (x, y_label-label_height),\n",
    "                                 (x+label_width, y_label+baseLine), (255, 255, 255), cv.FILLED)\n",
    "            cv.putText(image, label, (x, y_label), cv.FONT_HERSHEY_SIMPLEX, 0.5, clr, 2)\n",
    "        \n",
    "    objects = tracker.update(detections_bbox)\n",
    "    \n",
    "    for (objectID, centroid) in objects.items():\n",
    "        text = \"ID {}\".format(objectID)\n",
    "        cv.putText(image, text, (centroid[0] - 10, centroid[1] - 10), cv.FONT_HERSHEY_SIMPLEX,\n",
    "                    0.5, (0, 255, 0), 2)\n",
    "        cv.circle(image, (centroid[0], centroid[1]), 4, (0, 255, 0), -1)\n",
    "        \n",
    "    cv.imshow(\"image\", image)\n",
    "    \n",
    "    if cv.waitKey(1) & 0xFF == ord('q'):\n",
    "        break\n",
    "        \n",
    "    if writer is None:\n",
    "        fourcc = cv.VideoWriter_fourcc(*\"MJPG\")\n",
    "        writer = cv.VideoWriter(\"output.avi\", fourcc, 30, (W, H), True)\n",
    "    writer.write(image)\n",
    "\n",
    "writer.release()\n",
    "cap.release()\n",
    "cv.destroyWindow(\"image\")"
   ]
  },
  {
   "cell_type": "code",
   "execution_count": null,
   "metadata": {},
   "outputs": [],
   "source": []
  }
 ],
 "metadata": {
  "kernelspec": {
   "display_name": "Python 3",
   "language": "python",
   "name": "python3"
  },
  "language_info": {
   "codemirror_mode": {
    "name": "ipython",
    "version": 3
   },
   "file_extension": ".py",
   "mimetype": "text/x-python",
   "name": "python",
   "nbconvert_exporter": "python",
   "pygments_lexer": "ipython3",
   "version": "3.6.9"
  }
 },
 "nbformat": 4,
 "nbformat_minor": 2
}
